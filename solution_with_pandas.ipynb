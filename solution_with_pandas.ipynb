{
 "cells": [
  {
   "cell_type": "code",
   "execution_count": 1,
   "metadata": {},
   "outputs": [],
   "source": [
    "import pandas as pd\n",
    "import numpy as np"
   ]
  },
  {
   "cell_type": "code",
   "execution_count": 2,
   "metadata": {},
   "outputs": [],
   "source": [
    "milk = pd.read_csv('milk_promo_sales.csv') # создаем датафрейм"
   ]
  },
  {
   "cell_type": "code",
   "execution_count": 3,
   "metadata": {},
   "outputs": [],
   "source": [
    "milk = milk.sort_values(['store_id', 'period_id']).reset_index() # сортируем датафрейм и индексируем заново"
   ]
  },
  {
   "cell_type": "code",
   "execution_count": 4,
   "metadata": {},
   "outputs": [
    {
     "data": {
      "text/plain": [
       "140992"
      ]
     },
     "execution_count": 4,
     "metadata": {},
     "output_type": "execute_result"
    }
   ],
   "source": [
    "milk['period_num'] = ((milk.period_id.diff()!=1) | (milk.store_id.diff()!=0)).astype('int64').cumsum()\n",
    "max(milk.period_num) # находим строчки, где заканчиваются промопериоды, разделяем весь датафрейм на промопериоды,\n",
    "# рассчитываем их количесвто"
   ]
  },
  {
   "cell_type": "code",
   "execution_count": 5,
   "metadata": {},
   "outputs": [
    {
     "data": {
      "text/plain": [
       "3.0"
      ]
     },
     "execution_count": 5,
     "metadata": {},
     "output_type": "execute_result"
    }
   ],
   "source": [
    "milk['period_num'].groupby(milk.period_num).count().median() # группируем датафрейм по промопериодам и рассчитываем медиану их длины"
   ]
  },
  {
   "cell_type": "code",
   "execution_count": 6,
   "metadata": {},
   "outputs": [
    {
     "data": {
      "text/plain": [
       "period_num\n",
       "1         86.3500\n",
       "2          9.9000\n",
       "3         15.8500\n",
       "4         18.2000\n",
       "5         48.3000\n",
       "           ...   \n",
       "140988     4.8000\n",
       "140989     3.9500\n",
       "140990     0.9500\n",
       "140991     4.6500\n",
       "140992     8.3765\n",
       "Name: sales_volume, Length: 140992, dtype: float64"
      ]
     },
     "execution_count": 6,
     "metadata": {},
     "output_type": "execute_result"
    }
   ],
   "source": [
    "milk.groupby(milk.period_num).sum().sales_volume  # группируем датафрейм по промопериодам,\n",
    "# считаем сумму по столбцам и выводим сумму продаж по каждому периоду"
   ]
  },
  {
   "cell_type": "code",
   "execution_count": 9,
   "metadata": {},
   "outputs": [
    {
     "data": {
      "text/plain": [
       "6.0"
      ]
     },
     "execution_count": 9,
     "metadata": {},
     "output_type": "execute_result"
    }
   ],
   "source": [
    "milk.groupby(milk.store_id).period_num.nunique().median() # группируем датафрейм по магазинам, \n",
    "# считаем количество уникальных промопериодов для каждого магазина, находим медиану этого количества"
   ]
  }
 ],
 "metadata": {
  "kernelspec": {
   "display_name": "Python 3",
   "language": "python",
   "name": "python3"
  },
  "language_info": {
   "codemirror_mode": {
    "name": "ipython",
    "version": 3
   },
   "file_extension": ".py",
   "mimetype": "text/x-python",
   "name": "python",
   "nbconvert_exporter": "python",
   "pygments_lexer": "ipython3",
   "version": "3.7.4"
  }
 },
 "nbformat": 4,
 "nbformat_minor": 2
}
